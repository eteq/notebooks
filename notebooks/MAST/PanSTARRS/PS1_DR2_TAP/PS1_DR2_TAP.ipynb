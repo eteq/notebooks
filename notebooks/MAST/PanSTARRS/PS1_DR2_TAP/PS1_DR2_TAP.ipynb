{
 "cells": [
  {
   "cell_type": "markdown",
   "metadata": {},
   "source": [
    "# MAST Table Access Protocol PanSTARRS 1 DR2 Demo"
   ]
  },
  {
   "cell_type": "markdown",
   "metadata": {},
   "source": [
    "<br> This tutorial demonstrates how to use astroquery to access PanSTARRS 1 Data Release 2 via a Virtual Observatory standard Table Access Protocol (TAP) service at MAST, and work with the resultant data. It relies on Python 3.\n",
    "\n",
    "***\n",
    "### Table of Contents\n",
    "\n",
    "1. [AP Service Introduction](#TAP-Service-Introduction)\n",
    "2. [Imports](#Imports)\n",
    "3. [Useful Functions](#Useful-Functions)\n",
    "3. [Connecting, Finding, and Displaying Table Information](#Connecting,-Finding,-and-Displaying-Table-Information)\n",
    "    - [Connecting to a TAP Service](#Connecting-to-a-TAP-Service)\n",
    "    - [Querying for Table Schema Information](#Querying-for-Table-Schema-Information)\n",
    "    - [Querying for Data](#Querying-for-Data)\n",
    "    - [Use Case: Plotting a light curve for the most variable object in a field](#Use-Case:-Plotting-a-light-curve-for-the-most-variable-object-in-a-field)\n",
    "    - [Use Case: Create a color magnitude diagram for the Small Magellanic Cloud](#Use-Case:-Create-a-color-magnitude-diagram-for-the-Small-Magellanic-Cloud) <br><br>\n",
    "4. [Additional Resources](#Additional-Resources)\n",
    "5. [About This Notebook](#About-this-Notebook)\n",
    "***"
   ]
  },
  {
   "cell_type": "markdown",
   "metadata": {},
   "source": [
    "## TAP Service Introduction"
   ]
  },
  {
   "cell_type": "markdown",
   "metadata": {},
   "source": [
    "Table Access Protocol (TAP) services allow more direct and flexible access to astronomical data than the simpler types of IVOA standard data services. Queries are built with the SQL-like Astronomical Data Query Language (ADQL), and can include geographic / spatial queries as well as filtering on other characteristics of the data. This also allows the user fine-grained control over the returned columns, unlike the fixed set of coumns retunred from cone, image, and spectral services.\n",
    "\n",
    "For this example, we'll be using the astroquery TAP/TAP+ client, which was developed by the ESAC Space Data Centre for working with the GAIA catalog, but is interoperable with other valid TAP services, including those at MAST. As an astroquery project, TAP+ documentation is available at ReadTheDocs: http://astroquery.readthedocs.io/en/latest/utils/tap.html\n",
    "\n",
    "We'll be using TAP+ to call the TAP service at MAST serving PanSTARRS 1 Data Release 2, now with individual detection information. The schema is described within the service, and we'll show how to inspect it. The schema is also the same as the one available via the CasJobs interface, with an additional view added for the most common positional queries. CasJobs has its own copy of the schema documentation, which can be accessed through its own site: http://mastweb.stsci.edu/ps1casjobs/\n",
    "\n"
   ]
  },
  {
   "cell_type": "markdown",
   "metadata": {},
   "source": [
    "***\n",
    "## Imports"
   ]
  },
  {
   "cell_type": "code",
   "execution_count": 80,
   "metadata": {},
   "outputs": [
    {
     "ename": "ModuleNotFoundError",
     "evalue": "No module named '_curses'",
     "output_type": "error",
     "traceback": [
      "\u001b[1;31m---------------------------------------------------------------------------\u001b[0m",
      "\u001b[1;31mModuleNotFoundError\u001b[0m                       Traceback (most recent call last)",
      "\u001b[1;32m<ipython-input-80-e15c680ee48d>\u001b[0m in \u001b[0;36m<module>\u001b[1;34m()\u001b[0m\n\u001b[0;32m     13\u001b[0m \u001b[1;32mimport\u001b[0m \u001b[0mtime\u001b[0m\u001b[1;33m\u001b[0m\u001b[0m\n\u001b[0;32m     14\u001b[0m \u001b[1;32mimport\u001b[0m \u001b[0mjson\u001b[0m\u001b[1;33m\u001b[0m\u001b[0m\n\u001b[1;32m---> 15\u001b[1;33m \u001b[1;32mimport\u001b[0m \u001b[0mcurses\u001b[0m\u001b[1;33m\u001b[0m\u001b[0m\n\u001b[0m\u001b[0;32m     16\u001b[0m \u001b[1;32mfrom\u001b[0m \u001b[0mmatplotlib\u001b[0m \u001b[1;32mimport\u001b[0m \u001b[0mpyplot\u001b[0m \u001b[1;32mas\u001b[0m \u001b[0mplt\u001b[0m\u001b[1;33m\u001b[0m\u001b[0m\n\u001b[0;32m     17\u001b[0m \u001b[1;33m\u001b[0m\u001b[0m\n",
      "\u001b[1;32m~\\Anaconda3\\lib\\curses\\__init__.py\u001b[0m in \u001b[0;36m<module>\u001b[1;34m()\u001b[0m\n\u001b[0;32m     11\u001b[0m \"\"\"\n\u001b[0;32m     12\u001b[0m \u001b[1;33m\u001b[0m\u001b[0m\n\u001b[1;32m---> 13\u001b[1;33m \u001b[1;32mfrom\u001b[0m \u001b[0m_curses\u001b[0m \u001b[1;32mimport\u001b[0m \u001b[1;33m*\u001b[0m\u001b[1;33m\u001b[0m\u001b[0m\n\u001b[0m\u001b[0;32m     14\u001b[0m \u001b[1;32mimport\u001b[0m \u001b[0mos\u001b[0m \u001b[1;32mas\u001b[0m \u001b[0m_os\u001b[0m\u001b[1;33m\u001b[0m\u001b[0m\n\u001b[0;32m     15\u001b[0m \u001b[1;32mimport\u001b[0m \u001b[0msys\u001b[0m \u001b[1;32mas\u001b[0m \u001b[0m_sys\u001b[0m\u001b[1;33m\u001b[0m\u001b[0m\n",
      "\u001b[1;31mModuleNotFoundError\u001b[0m: No module named '_curses'"
     ]
    }
   ],
   "source": [
    "# Use the astroquery TapPlus library as our client to the data service.\n",
    "from astroquery.utils.tap.core import TapPlus\n",
    "\n",
    "## For handling ordinary astropy Tables in responses\n",
    "from astropy.table import Table\n",
    "\n",
    "# For displaying and manipulating some types of results\n",
    "%matplotlib inline\n",
    "import requests\n",
    "import astropy\n",
    "import numpy as np\n",
    "import pylab\n",
    "import time\n",
    "import json\n",
    "from matplotlib import pyplot as plt\n",
    "\n",
    "#for calling the object name resolver. Note these are Python 3 dependencies\n",
    "import sys\n",
    "import http.client as httplib \n",
    "from urllib.parse import quote as urlencode\n",
    "from urllib.request import urlretrieve\n",
    "\n",
    "# To allow display tweaks for wider response tables\n",
    "from IPython.core.display import display\n",
    "from IPython.core.display import HTML"
   ]
  },
  {
   "cell_type": "markdown",
   "metadata": {},
   "source": [
    "***\n",
    "## Useful Functions\n",
    "Resolve names using [MAST query](https://mast.stsci.edu/api/v0/MastApiTutorial.html)."
   ]
  },
  {
   "cell_type": "code",
   "execution_count": 38,
   "metadata": {},
   "outputs": [],
   "source": [
    "def mastQuery(request):\n",
    "    \"\"\"Perform a MAST query.\n",
    "\n",
    "    Parameters\n",
    "    ----------\n",
    "    request (dictionary): The MAST request json object\n",
    "\n",
    "    Returns head,content where head is the response HTTP headers, and content is the returned data\"\"\"\n",
    "    \n",
    "    server='mast.stsci.edu'\n",
    "\n",
    "    # Grab Python Version \n",
    "    version = \".\".join(map(str, sys.version_info[:3]))\n",
    "\n",
    "    # Create Http Header Variables\n",
    "    headers = {\"Content-type\": \"application/x-www-form-urlencoded\",\n",
    "               \"Accept\": \"text/plain\",\n",
    "               \"User-agent\":\"python-requests/\"+version}\n",
    "\n",
    "    # Encoding the request as a json string\n",
    "    requestString = json.dumps(request)\n",
    "    requestString = urlencode(requestString)\n",
    "    \n",
    "    # opening the https connection\n",
    "    conn = httplib.HTTPSConnection(server)\n",
    "\n",
    "    # Making the query\n",
    "    conn.request(\"POST\", \"/api/v0/invoke\", \"request=\"+requestString, headers)\n",
    "\n",
    "    # Getting the response\n",
    "    resp = conn.getresponse()\n",
    "    head = resp.getheaders()\n",
    "    content = resp.read().decode('utf-8')\n",
    "\n",
    "    # Close the https connection\n",
    "    conn.close()\n",
    "\n",
    "    return head,content\n",
    "\n",
    "\n",
    "def resolve(name):\n",
    "    \"\"\"Get the RA and Dec for an object using the MAST name resolver\n",
    "    \n",
    "    Parameters\n",
    "    ----------\n",
    "    name (str): Name of object\n",
    "\n",
    "    Returns RA, Dec tuple with position\"\"\"\n",
    "\n",
    "    resolverRequest = {'service':'Mast.Name.Lookup',\n",
    "                       'params':{'input':name,\n",
    "                                 'format':'json'\n",
    "                                },\n",
    "                      }\n",
    "    headers,resolvedObjectString = mastQuery(resolverRequest)\n",
    "    resolvedObject = json.loads(resolvedObjectString)\n",
    "    # The resolver returns a variety of information about the resolved object, \n",
    "    # however for our purposes all we need are the RA and Dec\n",
    "    try:\n",
    "        objRa = resolvedObject['resolvedCoordinate'][0]['ra']\n",
    "        objDec = resolvedObject['resolvedCoordinate'][0]['decl']\n",
    "    except IndexError as e:\n",
    "        raise ValueError(\"Unknown object '{}'\".format(name))\n",
    "    return (objRa, objDec)"
   ]
  },
  {
   "cell_type": "markdown",
   "metadata": {},
   "source": [
    "***\n",
    "## Connecting to a TAP Service"
   ]
  },
  {
   "cell_type": "markdown",
   "metadata": {},
   "source": [
    "The TapPlus library is able to connect to any TAP service, given the \"base\" URL as noted in metadata registry resources describing the service. This is the URL for the PanSTARRS 1 DR2 TAP service."
   ]
  },
  {
   "cell_type": "code",
   "execution_count": 39,
   "metadata": {},
   "outputs": [
    {
     "name": "stdout",
     "output_type": "stream",
     "text": [
      "Created TAP+ (v1.0.1) - Connection:\n",
      "\tHost: vao.stsci.edu\n",
      "\tUse HTTPS: False\n",
      "\tPort: 80\n",
      "\tSSL Port: 443\n"
     ]
    }
   ],
   "source": [
    "TAP_service = TapPlus(url=\"http://vao.stsci.edu/PS1DR2/tapservice.aspx\")"
   ]
  },
  {
   "cell_type": "markdown",
   "metadata": {},
   "source": [
    "# Use Cases"
   ]
  },
  {
   "cell_type": "markdown",
   "metadata": {},
   "source": [
    "## Simple positional query\n",
    "\n",
    "This searches the mean object catalog for objects within 50 arcsec of M87 (RA=187.706, Dec=12.391 in degrees). The `fGetNearbyObjEq` function returns a list of object IDs, and the subsequent joins extract information from the [ObjectThin](https://outerspace.stsci.edu/x/W4Oc) table (which has information on object positions and the number of available measurements) and the [MeanObject](https://outerspace.stsci.edu/x/WYOc) table (which has information on photometry averaged over the multiple epochs of observation).\n",
    "\n",
    "Note that the results are restricted to objects with `nDetections>1`, where `nDetections` is the total number of times the object was detected on the single-epoch images in any filter at any time.  Objects with `nDetections=1` tend to be  artifacts, so this is a quick way to eliminate most spurious objects from the catalog.\n",
    "\n",
    "This query runs in TAP's asynchronous mode, which is a queued batch mode with some overhead and longer timeouts, useful for big catalogs like PanSTARRS. It may not be necessary for all queries to PS1 DR2, but the TAP+ client can automatically handle the additional processing required over synchronous mode."
   ]
  },
  {
   "cell_type": "code",
   "execution_count": 44,
   "metadata": {
    "scrolled": true
   },
   "outputs": [
    {
     "name": "stdout",
     "output_type": "stream",
     "text": [
      "Query finished.\n"
     ]
    },
    {
     "data": {
      "text/html": [
       "<i>Table masked=True length=6927</i>\n",
       "<table id=\"table1922170413744\" class=\"table-striped table-bordered table-condensed\">\n",
       "<thead><tr><th>objID</th><th>RAMean</th><th>DecMean</th><th>nDetections</th><th>ng</th><th>nr</th><th>ni</th><th>nz</th><th>ny</th><th>gMeanPSFMag</th><th>rMeanPSFMag</th><th>iMeanPSFMag</th><th>zMeanPSFMag</th><th>yMeanPSFMag</th></tr></thead>\n",
       "<thead><tr><th>int64</th><th>float64</th><th>float64</th><th>int16</th><th>int16</th><th>int16</th><th>int16</th><th>int16</th><th>int16</th><th>float32</th><th>float32</th><th>float32</th><th>float32</th><th>float32</th></tr></thead>\n",
       "<tr><td>123061878291370064</td><td>187.82911445</td><td>12.54958617</td><td>3</td><td>0</td><td>0</td><td>1</td><td>1</td><td>1</td><td>-999.0</td><td>-999.0</td><td>21.8443</td><td>21.3244</td><td>20.0731</td></tr>\n",
       "<tr><td>123071876051171575</td><td>187.60517146</td><td>12.55918313</td><td>39</td><td>8</td><td>10</td><td>8</td><td>7</td><td>6</td><td>21.5882</td><td>20.8265</td><td>20.5116</td><td>20.2779</td><td>19.8824</td></tr>\n",
       "<tr><td>123071876084162495</td><td>187.60847055</td><td>12.56008291</td><td>30</td><td>9</td><td>8</td><td>8</td><td>5</td><td>0</td><td>21.7058</td><td>21.3354</td><td>21.0546</td><td>20.9275</td><td>-999.0</td></tr>\n",
       "<tr><td>123071876093714495</td><td>187.60949233</td><td>12.56165023</td><td>57</td><td>6</td><td>12</td><td>12</td><td>12</td><td>15</td><td>22.0594</td><td>20.4839</td><td>19.7912</td><td>19.6981</td><td>19.2784</td></tr>\n",
       "<tr><td>123071876178704897</td><td>187.61795425</td><td>12.56199748</td><td>5</td><td>0</td><td>3</td><td>2</td><td>0</td><td>0</td><td>-999.0</td><td>21.7051</td><td>21.7451</td><td>-999.0</td><td>-999.0</td></tr>\n",
       "<tr><td>123071876268012463</td><td>187.62690405</td><td>12.55995063</td><td>5</td><td>1</td><td>1</td><td>3</td><td>0</td><td>0</td><td>22.1989</td><td>21.7308</td><td>21.8344</td><td>-999.0</td><td>-999.0</td></tr>\n",
       "<tr><td>123071876308100672</td><td>187.63080928</td><td>12.55850985</td><td>53</td><td>7</td><td>10</td><td>10</td><td>10</td><td>16</td><td>21.3162</td><td>20.0941</td><td>19.7004</td><td>19.6551</td><td>19.434</td></tr>\n",
       "<tr><td>123071876329671800</td><td>187.63296955</td><td>12.55940447</td><td>3</td><td>0</td><td>2</td><td>1</td><td>0</td><td>0</td><td>-999.0</td><td>21.6726</td><td>21.3181</td><td>-999.0</td><td>-999.0</td></tr>\n",
       "<tr><td>123071876374472263</td><td>187.63738364</td><td>12.55959236</td><td>2</td><td>0</td><td>1</td><td>0</td><td>1</td><td>0</td><td>-999.0</td><td>21.2044</td><td>-999.0</td><td>17.5929</td><td>-999.0</td></tr>\n",
       "<tr><td>123071876388375132</td><td>187.63884908</td><td>12.5623849</td><td>2</td><td>0</td><td>1</td><td>0</td><td>1</td><td>0</td><td>-999.0</td><td>21.5223</td><td>-999.0</td><td>20.5062</td><td>-999.0</td></tr>\n",
       "<tr><td>...</td><td>...</td><td>...</td><td>...</td><td>...</td><td>...</td><td>...</td><td>...</td><td>...</td><td>...</td><td>...</td><td>...</td><td>...</td><td>...</td></tr>\n",
       "<tr><td>122961876125060731</td><td>187.61249196</td><td>12.46693703</td><td>41</td><td>0</td><td>5</td><td>12</td><td>13</td><td>11</td><td>-999.0</td><td>21.5574</td><td>20.3183</td><td>19.7314</td><td>19.4607</td></tr>\n",
       "<tr><td>122961876156884623</td><td>187.61567378</td><td>12.47008425</td><td>27</td><td>7</td><td>8</td><td>8</td><td>4</td><td>0</td><td>21.8578</td><td>21.557</td><td>21.3596</td><td>21.1574</td><td>-999.0</td></tr>\n",
       "<tr><td>122961876230262518</td><td>187.62301185</td><td>12.46836084</td><td>33</td><td>7</td><td>11</td><td>8</td><td>7</td><td>0</td><td>22.0788</td><td>21.3</td><td>21.0763</td><td>20.8698</td><td>-999.0</td></tr>\n",
       "<tr><td>122961876259645803</td><td>187.62592763</td><td>12.47110018</td><td>7</td><td>1</td><td>1</td><td>4</td><td>1</td><td>0</td><td>22.2896</td><td>21.5777</td><td>21.6357</td><td>21.4407</td><td>-999.0</td></tr>\n",
       "<tr><td>122961876264566828</td><td>187.62654228</td><td>12.47204334</td><td>3</td><td>0</td><td>2</td><td>1</td><td>0</td><td>0</td><td>-999.0</td><td>21.3934</td><td>21.7626</td><td>-999.0</td><td>-999.0</td></tr>\n",
       "<tr><td>122961876267427286</td><td>187.62676125</td><td>12.47231086</td><td>10</td><td>1</td><td>4</td><td>4</td><td>1</td><td>0</td><td>22.1949</td><td>21.4819</td><td>21.5972</td><td>21.2708</td><td>-999.0</td></tr>\n",
       "<tr><td>122961876299914949</td><td>187.62992064</td><td>12.47045248</td><td>10</td><td>3</td><td>3</td><td>4</td><td>0</td><td>0</td><td>22.1309</td><td>21.188</td><td>21.0864</td><td>-999.0</td><td>-999.0</td></tr>\n",
       "<tr><td>122961876344046117</td><td>187.6343323</td><td>12.47129856</td><td>19</td><td>0</td><td>5</td><td>7</td><td>6</td><td>1</td><td>-999.0</td><td>21.4192</td><td>21.2397</td><td>20.9485</td><td>20.0499</td></tr>\n",
       "<tr><td>122961876376317451</td><td>187.63772457</td><td>12.47248061</td><td>46</td><td>9</td><td>12</td><td>11</td><td>10</td><td>4</td><td>21.5524</td><td>20.9852</td><td>20.6195</td><td>20.3956</td><td>20.1099</td></tr>\n",
       "<tr><td>122961876398973716</td><td>187.63991951</td><td>12.46935741</td><td>17</td><td>3</td><td>6</td><td>5</td><td>3</td><td>0</td><td>22.0248</td><td>21.2446</td><td>21.5532</td><td>21.2909</td><td>-999.0</td></tr>\n",
       "</table>"
      ],
      "text/plain": [
       "<Table masked=True length=6927>\n",
       "      objID           RAMean      DecMean   ... zMeanPSFMag yMeanPSFMag\n",
       "      int64          float64      float64   ...   float32     float32  \n",
       "------------------ ------------ ----------- ... ----------- -----------\n",
       "123061878291370064 187.82911445 12.54958617 ...     21.3244     20.0731\n",
       "123071876051171575 187.60517146 12.55918313 ...     20.2779     19.8824\n",
       "123071876084162495 187.60847055 12.56008291 ...     20.9275      -999.0\n",
       "123071876093714495 187.60949233 12.56165023 ...     19.6981     19.2784\n",
       "123071876178704897 187.61795425 12.56199748 ...      -999.0      -999.0\n",
       "123071876268012463 187.62690405 12.55995063 ...      -999.0      -999.0\n",
       "123071876308100672 187.63080928 12.55850985 ...     19.6551      19.434\n",
       "123071876329671800 187.63296955 12.55940447 ...      -999.0      -999.0\n",
       "123071876374472263 187.63738364 12.55959236 ...     17.5929      -999.0\n",
       "123071876388375132 187.63884908  12.5623849 ...     20.5062      -999.0\n",
       "               ...          ...         ... ...         ...         ...\n",
       "122961876125060731 187.61249196 12.46693703 ...     19.7314     19.4607\n",
       "122961876156884623 187.61567378 12.47008425 ...     21.1574      -999.0\n",
       "122961876230262518 187.62301185 12.46836084 ...     20.8698      -999.0\n",
       "122961876259645803 187.62592763 12.47110018 ...     21.4407      -999.0\n",
       "122961876264566828 187.62654228 12.47204334 ...      -999.0      -999.0\n",
       "122961876267427286 187.62676125 12.47231086 ...     21.2708      -999.0\n",
       "122961876299914949 187.62992064 12.47045248 ...      -999.0      -999.0\n",
       "122961876344046117  187.6343323 12.47129856 ...     20.9485     20.0499\n",
       "122961876376317451 187.63772457 12.47248061 ...     20.3956     20.1099\n",
       "122961876398973716 187.63991951 12.46935741 ...     21.2909      -999.0"
      ]
     },
     "execution_count": 44,
     "metadata": {},
     "output_type": "execute_result"
    }
   ],
   "source": [
    "job = TAP_service.launch_job_async(\"\"\"\n",
    "SELECT objID, RAMean, DecMean, nDetections, ng, nr, ni, nz, ny, gMeanPSFMag, rMeanPSFMag, iMeanPSFMag, zMeanPSFMag, yMeanPSFMag\n",
    "FROM dbo.MeanObjectView\n",
    "WHERE\n",
    "CONTAINS(POINT('ICRS', RAMean, DecMean),CIRCLE('ICRS',187.706,12.391,.2))=1\n",
    "AND nDetections > 1\n",
    "  \"\"\")\n",
    "TAP_results = job.get_results()\n",
    "TAP_results"
   ]
  },
  {
   "cell_type": "markdown",
   "metadata": {},
   "source": [
    "## Get DR2 light curve for RR Lyrae star KQ UMa\n",
    "\n",
    "This time we start with the object name, use the MAST name resolver (which relies on Simbad and NED) to convert the name to RA and Dec, and then query the PS1 DR2 mean object catalog at that position.  Then we run a spatial query to TAP using those coordinates."
   ]
  },
  {
   "cell_type": "code",
   "execution_count": 45,
   "metadata": {},
   "outputs": [
    {
     "name": "stdout",
     "output_type": "stream",
     "text": [
      "\n",
      "SELECT objID, RAMean, DecMean, nDetections, ng, nr, ni, nz, ny, gMeanPSFMag, rMeanPSFMag, iMeanPSFMag, zMeanPSFMag, yMeanPSFMag\n",
      "FROM dbo.MeanObjectView\n",
      "WHERE\n",
      "CONTAINS(POINT('ICRS', RAMean, DecMean),CIRCLE('ICRS',139.3344625554179,68.6350884268329,0.016666666666666666))=1\n",
      "AND nDetections > 1\n",
      "\n",
      "Query finished.\n"
     ]
    },
    {
     "data": {
      "text/html": [
       "<i>Table masked=True length=27</i>\n",
       "<table id=\"table1922179780112\" class=\"table-striped table-bordered table-condensed\">\n",
       "<thead><tr><th>objID</th><th>RAMean</th><th>DecMean</th><th>nDetections</th><th>ng</th><th>nr</th><th>ni</th><th>nz</th><th>ny</th><th>gMeanPSFMag</th><th>rMeanPSFMag</th><th>iMeanPSFMag</th><th>zMeanPSFMag</th><th>yMeanPSFMag</th></tr></thead>\n",
       "<thead><tr><th>int64</th><th>float64</th><th>float64</th><th>int16</th><th>int16</th><th>int16</th><th>int16</th><th>int16</th><th>int16</th><th>float32</th><th>float32</th><th>float32</th><th>float32</th><th>float32</th></tr></thead>\n",
       "<tr><td>190341393098886808</td><td>139.31005798</td><td>68.62167398</td><td>2</td><td>0</td><td>0</td><td>2</td><td>0</td><td>0</td><td>-999.0</td><td>-999.0</td><td>20.9007</td><td>-999.0</td><td>-999.0</td></tr>\n",
       "<tr><td>190351393167379829</td><td>139.31684077</td><td>68.6325315</td><td>76</td><td>10</td><td>12</td><td>25</td><td>13</td><td>16</td><td>19.4137</td><td>18.1327</td><td>17.3319</td><td>16.9505</td><td>16.7579</td></tr>\n",
       "<tr><td>190351393218782091</td><td>139.3221462</td><td>68.62611891</td><td>8</td><td>2</td><td>2</td><td>2</td><td>1</td><td>1</td><td>21.7947</td><td>21.6335</td><td>21.6634</td><td>21.1578</td><td>17.9726</td></tr>\n",
       "<tr><td>190351393310872072</td><td>139.3310196</td><td>68.62606374</td><td>2</td><td>0</td><td>0</td><td>2</td><td>0</td><td>0</td><td>-999.0</td><td>-999.0</td><td>21.704</td><td>-999.0</td><td>-999.0</td></tr>\n",
       "<tr><td>190351393338202415</td><td>139.33360654</td><td>68.62651092</td><td>2</td><td>0</td><td>0</td><td>2</td><td>0</td><td>0</td><td>-999.0</td><td>-999.0</td><td>21.3409</td><td>-999.0</td><td>-999.0</td></tr>\n",
       "<tr><td>190351393399303775</td><td>139.33979726</td><td>68.62757712</td><td>2</td><td>0</td><td>0</td><td>2</td><td>0</td><td>0</td><td>-999.0</td><td>-999.0</td><td>20.6871</td><td>-999.0</td><td>-999.0</td></tr>\n",
       "<tr><td>190351393441745113</td><td>139.34450814</td><td>68.62863736</td><td>2</td><td>0</td><td>0</td><td>2</td><td>0</td><td>0</td><td>-999.0</td><td>-999.0</td><td>20.8253</td><td>-999.0</td><td>-999.0</td></tr>\n",
       "<tr><td>190351393503746503</td><td>139.35070447</td><td>68.62975839</td><td>2</td><td>0</td><td>0</td><td>2</td><td>0</td><td>0</td><td>-999.0</td><td>-999.0</td><td>20.7665</td><td>-999.0</td><td>-999.0</td></tr>\n",
       "<tr><td>190351393585621382</td><td>139.35856069</td><td>68.62567905</td><td>2</td><td>0</td><td>2</td><td>0</td><td>0</td><td>0</td><td>-999.0</td><td>20.5799</td><td>-999.0</td><td>-999.0</td><td>-999.0</td></tr>\n",
       "<tr><td>190351393640991935</td><td>139.3642556</td><td>68.62599389</td><td>4</td><td>2</td><td>1</td><td>1</td><td>0</td><td>0</td><td>21.782</td><td>21.5324</td><td>21.6792</td><td>-999.0</td><td>-999.0</td></tr>\n",
       "<tr><td>...</td><td>...</td><td>...</td><td>...</td><td>...</td><td>...</td><td>...</td><td>...</td><td>...</td><td>...</td><td>...</td><td>...</td><td>...</td><td>...</td></tr>\n",
       "<tr><td>190361393380433853</td><td>139.3380429</td><td>68.63611192</td><td>3</td><td>1</td><td>0</td><td>2</td><td>0</td><td>0</td><td>21.7585</td><td>-999.0</td><td>20.7358</td><td>-999.0</td><td>-999.0</td></tr>\n",
       "<tr><td>190361393408801421</td><td>139.34098673</td><td>68.63399108</td><td>2</td><td>0</td><td>0</td><td>0</td><td>1</td><td>1</td><td>-999.0</td><td>-999.0</td><td>-999.0</td><td>21.0643</td><td>20.2436</td></tr>\n",
       "<tr><td>190361393421444329</td><td>139.34223018</td><td>68.63627992</td><td>2</td><td>0</td><td>0</td><td>0</td><td>2</td><td>0</td><td>-999.0</td><td>-999.0</td><td>-999.0</td><td>19.2281</td><td>-999.0</td></tr>\n",
       "<tr><td>190361393450219025</td><td>139.34494309</td><td>68.64034626</td><td>2</td><td>0</td><td>0</td><td>1</td><td>0</td><td>1</td><td>-999.0</td><td>-999.0</td><td>18.2278</td><td>-999.0</td><td>19.5089</td></tr>\n",
       "<tr><td>190361393583195059</td><td>139.35825768</td><td>68.63694097</td><td>2</td><td>0</td><td>0</td><td>0</td><td>0</td><td>2</td><td>-999.0</td><td>-999.0</td><td>-999.0</td><td>-999.0</td><td>19.2158</td></tr>\n",
       "<tr><td>190371393023186918</td><td>139.30227757</td><td>68.64679417</td><td>2</td><td>0</td><td>0</td><td>2</td><td>0</td><td>0</td><td>-999.0</td><td>-999.0</td><td>21.8303</td><td>-999.0</td><td>-999.0</td></tr>\n",
       "<tr><td>190371393051716975</td><td>139.30534231</td><td>68.64684529</td><td>2</td><td>0</td><td>0</td><td>1</td><td>1</td><td>0</td><td>-999.0</td><td>-999.0</td><td>21.6192</td><td>21.4812</td><td>-999.0</td></tr>\n",
       "<tr><td>190371393361406271</td><td>139.33627025</td><td>68.64622212</td><td>4</td><td>0</td><td>0</td><td>2</td><td>2</td><td>0</td><td>-999.0</td><td>-999.0</td><td>20.5712</td><td>20.4476</td><td>-999.0</td></tr>\n",
       "<tr><td>190371393519525557</td><td>139.35203593</td><td>68.6456344</td><td>2</td><td>1</td><td>0</td><td>0</td><td>0</td><td>1</td><td>21.8687</td><td>-999.0</td><td>-999.0</td><td>-999.0</td><td>19.8665</td></tr>\n",
       "<tr><td>190371393586764491</td><td>139.358582</td><td>68.64466174</td><td>2</td><td>1</td><td>0</td><td>0</td><td>1</td><td>0</td><td>21.8912</td><td>-999.0</td><td>-999.0</td><td>21.5005</td><td>-999.0</td></tr>\n",
       "</table>"
      ],
      "text/plain": [
       "<Table masked=True length=27>\n",
       "      objID           RAMean      DecMean   ... zMeanPSFMag yMeanPSFMag\n",
       "      int64          float64      float64   ...   float32     float32  \n",
       "------------------ ------------ ----------- ... ----------- -----------\n",
       "190341393098886808 139.31005798 68.62167398 ...      -999.0      -999.0\n",
       "190351393167379829 139.31684077  68.6325315 ...     16.9505     16.7579\n",
       "190351393218782091  139.3221462 68.62611891 ...     21.1578     17.9726\n",
       "190351393310872072  139.3310196 68.62606374 ...      -999.0      -999.0\n",
       "190351393338202415 139.33360654 68.62651092 ...      -999.0      -999.0\n",
       "190351393399303775 139.33979726 68.62757712 ...      -999.0      -999.0\n",
       "190351393441745113 139.34450814 68.62863736 ...      -999.0      -999.0\n",
       "190351393503746503 139.35070447 68.62975839 ...      -999.0      -999.0\n",
       "190351393585621382 139.35856069 68.62567905 ...      -999.0      -999.0\n",
       "190351393640991935  139.3642556 68.62599389 ...      -999.0      -999.0\n",
       "               ...          ...         ... ...         ...         ...\n",
       "190361393380433853  139.3380429 68.63611192 ...      -999.0      -999.0\n",
       "190361393408801421 139.34098673 68.63399108 ...     21.0643     20.2436\n",
       "190361393421444329 139.34223018 68.63627992 ...     19.2281      -999.0\n",
       "190361393450219025 139.34494309 68.64034626 ...      -999.0     19.5089\n",
       "190361393583195059 139.35825768 68.63694097 ...      -999.0     19.2158\n",
       "190371393023186918 139.30227757 68.64679417 ...      -999.0      -999.0\n",
       "190371393051716975 139.30534231 68.64684529 ...     21.4812      -999.0\n",
       "190371393361406271 139.33627025 68.64622212 ...     20.4476      -999.0\n",
       "190371393519525557 139.35203593  68.6456344 ...      -999.0     19.8665\n",
       "190371393586764491   139.358582 68.64466174 ...     21.5005      -999.0"
      ]
     },
     "execution_count": 45,
     "metadata": {},
     "output_type": "execute_result"
    }
   ],
   "source": [
    "objname = 'KQ UMa'\n",
    "ra, dec = resolve(objname)\n",
    "radius = 1.0/60.0 # radius = 1 arcsec\n",
    "\n",
    "query = \"\"\"\n",
    "SELECT objID, RAMean, DecMean, nDetections, ng, nr, ni, nz, ny, gMeanPSFMag, rMeanPSFMag, iMeanPSFMag, zMeanPSFMag, yMeanPSFMag\n",
    "FROM dbo.MeanObjectView\n",
    "WHERE\n",
    "CONTAINS(POINT('ICRS', RAMean, DecMean),CIRCLE('ICRS',{},{},{}))=1\n",
    "AND nDetections > 1\n",
    "\"\"\".format(ra,dec,radius)\n",
    "print(query)\n",
    "\n",
    "job = TAP_service.launch_job_async(query)\n",
    "TAP_results = job.get_results()\n",
    "TAP_results"
   ]
  },
  {
   "cell_type": "markdown",
   "metadata": {},
   "source": [
    "### Get Detection Information\n",
    "\n",
    "Extract all the objects with the same object ID from the [Detection](https://outerspace.stsci.edu/x/b4Oc) table, which contains all the individual measurements for this source. The results are joined to the [Filter](https://outerspace.stsci.edu/x/nIOc) table to convert the filter numbers to names.  The somewhat odd structure for the ADQL (with the inner query in parentheses) ensures that the select by `objID` occurs before the match to the `Filter` table.  If the query optimizer gets confused and does the join between `Detection` and `Filter` before selecting the subset of objects, the query is very slow!"
   ]
  },
  {
   "cell_type": "code",
   "execution_count": 51,
   "metadata": {
    "scrolled": true
   },
   "outputs": [
    {
     "name": "stdout",
     "output_type": "stream",
     "text": [
      "\n",
      "SELECT\n",
      "    objID, detectID, d.filterID as filterID, f.filterType, obsTime, ra, dec,\n",
      "    psfFlux, psfFluxErr, psfMajorFWHM, psfMinorFWHM, psfQfPerfect, \n",
      "    apFlux, apFluxErr, infoFlag, infoFlag2, infoFlag3\n",
      "FROM( select * from Detection where objID=190361393344112894 ) d\n",
      "NATURAL JOIN Filter f\n",
      "ORDER BY filterID, obsTime\n",
      "\n",
      "Query finished.\n"
     ]
    },
    {
     "data": {
      "text/html": [
       "<i>Table masked=True length=66</i>\n",
       "<table id=\"table1922172572224\" class=\"table-striped table-bordered table-condensed\">\n",
       "<thead><tr><th>objID</th><th>detectID</th><th>filterid</th><th>filterType</th><th>obsTime</th><th>ra</th><th>dec</th><th>psfFlux</th><th>psfFluxErr</th><th>psfMajorFWHM</th><th>psfMinorFWHM</th><th>psfQfPerfect</th><th>apFlux</th><th>apFluxErr</th><th>infoFlag</th><th>infoFlag2</th><th>infoFlag3</th></tr></thead>\n",
       "<thead><tr><th>int64</th><th>int64</th><th>uint8</th><th>object</th><th>float64</th><th>float64</th><th>float64</th><th>float32</th><th>float32</th><th>float32</th><th>float32</th><th>float32</th><th>float32</th><th>float32</th><th>int64</th><th>int32</th><th>int32</th></tr></thead>\n",
       "<tr><td>190361393344112894</td><td>153347716310000010</td><td>1</td><td>g</td><td>55634.477414</td><td>139.3345207</td><td>68.63503577</td><td>0.00826192</td><td>1.14074e-05</td><td>1.88185</td><td>1.76734</td><td>0.992916</td><td>0.00861705</td><td>1.14233e-05</td><td>102760517</td><td>128</td><td>124782656</td></tr>\n",
       "<tr><td>190361393344112894</td><td>153348968310000008</td><td>1</td><td>g</td><td>55634.4899457</td><td>139.33448821</td><td>68.63506146</td><td>0.0077373</td><td>1.10268e-05</td><td>1.81031</td><td>1.60518</td><td>0.998461</td><td>0.00792172</td><td>1.09406e-05</td><td>102760517</td><td>128</td><td>124782656</td></tr>\n",
       "<tr><td>190361393344112894</td><td>232228791560000017</td><td>1</td><td>g</td><td>56423.2881719</td><td>139.33449441</td><td>68.63503952</td><td>0.00335198</td><td>7.26745e-06</td><td>1.60204</td><td>1.45048</td><td>0.998589</td><td>0.00338658</td><td>7.2363e-06</td><td>102760517</td><td>128</td><td>108038208</td></tr>\n",
       "<tr><td>190361393344112894</td><td>255559866370000015</td><td>1</td><td>g</td><td>56656.5989211</td><td>139.33444592</td><td>68.63504589</td><td>0.00372909</td><td>7.37688e-06</td><td>1.82831</td><td>1.68692</td><td>0.999191</td><td>0.00372163</td><td>7.52088e-06</td><td>102760517</td><td>128</td><td>124815424</td></tr>\n",
       "<tr><td>190361393344112894</td><td>262040070370000016</td><td>1</td><td>g</td><td>56721.4009635</td><td>139.33445148</td><td>68.63504807</td><td>0.003576</td><td>7.22894e-06</td><td>1.60585</td><td>1.50396</td><td>0.998605</td><td>0.00359603</td><td>7.43463e-06</td><td>102760517</td><td>128</td><td>7374912</td></tr>\n",
       "<tr><td>190361393344112894</td><td>262040708370000014</td><td>1</td><td>g</td><td>56721.4073411</td><td>139.33445304</td><td>68.63504406</td><td>0.00350554</td><td>7.14809e-06</td><td>1.62415</td><td>1.48827</td><td>0.999487</td><td>0.00359624</td><td>7.43434e-06</td><td>102760517</td><td>128</td><td>7374912</td></tr>\n",
       "<tr><td>190361393344112894</td><td>264231864260000022</td><td>1</td><td>g</td><td>56743.3189045</td><td>139.3344431</td><td>68.63504497</td><td>0.00343867</td><td>7.81574e-06</td><td>1.53957</td><td>1.4761</td><td>0.999049</td><td>0.00361239</td><td>7.85237e-06</td><td>102760517</td><td>128</td><td>7374912</td></tr>\n",
       "<tr><td>190361393344112894</td><td>264232516260000024</td><td>1</td><td>g</td><td>56743.3254198</td><td>139.33444512</td><td>68.63505285</td><td>0.00347403</td><td>7.87789e-06</td><td>1.52751</td><td>1.43325</td><td>0.999367</td><td>0.00360349</td><td>7.8686e-06</td><td>102760517</td><td>128</td><td>7374912</td></tr>\n",
       "<tr><td>190361393344112894</td><td>153441340410000012</td><td>2</td><td>r</td><td>55635.4136426</td><td>139.33447173</td><td>68.6350534</td><td>0.00978758</td><td>1.10843e-05</td><td>1.67879</td><td>1.5653</td><td>0.998509</td><td>0.00990763</td><td>1.11231e-05</td><td>102760517</td><td>128</td><td>124815424</td></tr>\n",
       "<tr><td>190361393344112894</td><td>153442549410000013</td><td>2</td><td>r</td><td>55635.4257356</td><td>139.33447732</td><td>68.63505279</td><td>0.0093621</td><td>1.1005e-05</td><td>1.34724</td><td>1.20952</td><td>0.407496</td><td>0.00950679</td><td>1.09949e-05</td><td>102760517</td><td>160</td><td>34880</td></tr>\n",
       "<tr><td>...</td><td>...</td><td>...</td><td>...</td><td>...</td><td>...</td><td>...</td><td>...</td><td>...</td><td>...</td><td>...</td><td>...</td><td>...</td><td>...</td><td>...</td><td>...</td><td>...</td></tr>\n",
       "<tr><td>190361393344112894</td><td>183254354520000014</td><td>5</td><td>y</td><td>55933.5437238</td><td>139.3344534</td><td>68.63505904</td><td>0.0079394</td><td>2.4924e-05</td><td>0.959231</td><td>0.901458</td><td>0.996853</td><td>0.00803078</td><td>2.37126e-05</td><td>102760517</td><td>128</td><td>7374912</td></tr>\n",
       "<tr><td>190361393344112894</td><td>183255163520000015</td><td>5</td><td>y</td><td>55933.5518128</td><td>139.33444232</td><td>68.63505669</td><td>0.00915573</td><td>2.64422e-05</td><td>1.11331</td><td>0.95368</td><td>0.997115</td><td>0.00914515</td><td>2.48501e-05</td><td>102760517</td><td>128</td><td>74483776</td></tr>\n",
       "<tr><td>190361393344112894</td><td>191726725200000011</td><td>5</td><td>y</td><td>56018.2674345</td><td>139.33446079</td><td>68.63506403</td><td>0.00829646</td><td>2.59461e-05</td><td>1.07332</td><td>1.01563</td><td>0.997924</td><td>0.00833759</td><td>2.33303e-05</td><td>102760517</td><td>128</td><td>7374912</td></tr>\n",
       "<tr><td>190361393344112894</td><td>191727369200000012</td><td>5</td><td>y</td><td>56018.2738664</td><td>139.33445189</td><td>68.63506152</td><td>0.00819996</td><td>2.55524e-05</td><td>1.09504</td><td>1.05914</td><td>0.997819</td><td>0.00820753</td><td>2.3153e-05</td><td>102760517</td><td>128</td><td>7374912</td></tr>\n",
       "<tr><td>190361393344112894</td><td>229122569150000014</td><td>5</td><td>y</td><td>56392.2258719</td><td>139.33442742</td><td>68.63506234</td><td>0.00780422</td><td>2.57689e-05</td><td>1.02878</td><td>0.893195</td><td>0.998618</td><td>0.00777279</td><td>2.16455e-05</td><td>102760517</td><td>128</td><td>7374912</td></tr>\n",
       "<tr><td>190361393344112894</td><td>229123273150000011</td><td>5</td><td>y</td><td>56392.2329084</td><td>139.33444595</td><td>68.63505744</td><td>0.00803503</td><td>2.55974e-05</td><td>0.941801</td><td>0.888788</td><td>0.99805</td><td>0.00807037</td><td>2.2092e-05</td><td>102760517</td><td>128</td><td>7374912</td></tr>\n",
       "<tr><td>190361393344112894</td><td>264322648150000024</td><td>5</td><td>y</td><td>56744.2269452</td><td>139.334454</td><td>68.63505864</td><td>0.00540446</td><td>1.32146e-05</td><td>1.38829</td><td>1.3477</td><td>0.998922</td><td>0.00549867</td><td>1.13527e-05</td><td>102760517</td><td>128</td><td>124782656</td></tr>\n",
       "<tr><td>190361393344112894</td><td>265623008150000027</td><td>5</td><td>y</td><td>56757.2305455</td><td>139.33444319</td><td>68.63506375</td><td>0.00636614</td><td>1.60784e-05</td><td>0.895041</td><td>0.803365</td><td>0.852516</td><td>0.00412859</td><td>1.01303e-05</td><td>102760581</td><td>128</td><td>34880</td></tr>\n",
       "<tr><td>190361393344112894</td><td>287165374630000023</td><td>5</td><td>y</td><td>56972.6539243</td><td>139.33444226</td><td>68.63506087</td><td>0.00687817</td><td>2.79326e-05</td><td>1.53686</td><td>1.28813</td><td>0.991647</td><td>0.00699914</td><td>2.16585e-05</td><td>102760517</td><td>128</td><td>7374912</td></tr>\n",
       "<tr><td>190361393344112894</td><td>287265116630000028</td><td>5</td><td>y</td><td>56973.6513438</td><td>139.33444991</td><td>68.63505759</td><td>0.00665377</td><td>2.7704e-05</td><td>1.85619</td><td>1.70397</td><td>0.99864</td><td>0.00663106</td><td>2.13156e-05</td><td>102760517</td><td>128</td><td>7342144</td></tr>\n",
       "</table>"
      ],
      "text/plain": [
       "<Table masked=True length=66>\n",
       "      objID             detectID      filterid ...  infoFlag infoFlag2 infoFlag3\n",
       "      int64              int64         uint8   ...   int64     int32     int32  \n",
       "------------------ ------------------ -------- ... --------- --------- ---------\n",
       "190361393344112894 153347716310000010        1 ... 102760517       128 124782656\n",
       "190361393344112894 153348968310000008        1 ... 102760517       128 124782656\n",
       "190361393344112894 232228791560000017        1 ... 102760517       128 108038208\n",
       "190361393344112894 255559866370000015        1 ... 102760517       128 124815424\n",
       "190361393344112894 262040070370000016        1 ... 102760517       128   7374912\n",
       "190361393344112894 262040708370000014        1 ... 102760517       128   7374912\n",
       "190361393344112894 264231864260000022        1 ... 102760517       128   7374912\n",
       "190361393344112894 264232516260000024        1 ... 102760517       128   7374912\n",
       "190361393344112894 153441340410000012        2 ... 102760517       128 124815424\n",
       "190361393344112894 153442549410000013        2 ... 102760517       160     34880\n",
       "               ...                ...      ... ...       ...       ...       ...\n",
       "190361393344112894 183254354520000014        5 ... 102760517       128   7374912\n",
       "190361393344112894 183255163520000015        5 ... 102760517       128  74483776\n",
       "190361393344112894 191726725200000011        5 ... 102760517       128   7374912\n",
       "190361393344112894 191727369200000012        5 ... 102760517       128   7374912\n",
       "190361393344112894 229122569150000014        5 ... 102760517       128   7374912\n",
       "190361393344112894 229123273150000011        5 ... 102760517       128   7374912\n",
       "190361393344112894 264322648150000024        5 ... 102760517       128 124782656\n",
       "190361393344112894 265623008150000027        5 ... 102760581       128     34880\n",
       "190361393344112894 287165374630000023        5 ... 102760517       128   7374912\n",
       "190361393344112894 287265116630000028        5 ... 102760517       128   7342144"
      ]
     },
     "execution_count": 51,
     "metadata": {},
     "output_type": "execute_result"
    }
   ],
   "source": [
    "#objid = TAP_results['objID'][0]\n",
    "objid = 190361393344112894\n",
    "query = \"\"\"\n",
    "SELECT\n",
    "    objID, detectID, d.filterID as filterID, f.filterType, obsTime, ra, dec,\n",
    "    psfFlux, psfFluxErr, psfMajorFWHM, psfMinorFWHM, psfQfPerfect, \n",
    "    apFlux, apFluxErr, infoFlag, infoFlag2, infoFlag3\n",
    "FROM( select * from Detection where objID={} ) d\n",
    "NATURAL JOIN Filter f\n",
    "ORDER BY filterID, obsTime\n",
    "\"\"\".format(objid)\n",
    "print(query)\n",
    "\n",
    "job = TAP_service.launch_job_async(query)\n",
    "detection_TAP_results = job.get_results()\n",
    "detection_TAP_results"
   ]
  },
  {
   "cell_type": "markdown",
   "metadata": {},
   "source": [
    "### Plot the light curves\n",
    "\n",
    "The `psfFlux` values from the Detection table are converted from Janskys to AB magnitudes.  Measurements in the 5 different filters are plotted separately."
   ]
  },
  {
   "cell_type": "code",
   "execution_count": 89,
   "metadata": {},
   "outputs": [
    {
     "data": {
      "image/png": "[encoded data removed]",
      "text/plain": [
       "<Figure size 720x720 with 5 Axes>"
      ]
     },
     "metadata": {},
     "output_type": "display_data"
    }
   ],
   "source": [
    "# convert flux in Jy to magnitudes\n",
    "t = detection_TAP_results['obsTime']\n",
    "mag = -2.5*np.log10(detection_TAP_results['psfFlux']) + 8.90\n",
    "xlim = np.array([t.min(),t.max()])\n",
    "xlim = xlim + np.array([-1,1])*0.02*(xlim[1]-xlim[0])\n",
    "\n",
    "pylab.rcParams.update({'font.size': 14})\n",
    "pylab.figure(1,(10,10))\n",
    "#detection_TAP_results['filterType'] is a byte string, compare accordingly:\n",
    "for i, filter in enumerate([b'g',b'r',b'i',b'z',b'y']):\n",
    "    pylab.subplot(511+i)\n",
    "    w = np.where(detection_TAP_results['filterType']==filter)    \n",
    "    pylab.plot(t[w],mag[w],'-o')\n",
    "    pylab.ylabel(filter.decode('ascii')+' [mag]')\n",
    "    pylab.xlim(xlim)\n",
    "    pylab.gca().invert_yaxis()\n",
    "    if i==0:\n",
    "        pylab.title(objname)\n",
    "pylab.xlabel('Time [MJD]')\n",
    "pylab.tight_layout()"
   ]
  },
  {
   "cell_type": "markdown",
   "metadata": {
    "collapsed": true
   },
   "source": [
    "***\n",
    "# Additional Resources\n",
    "\n",
    "\n",
    "## Table Access Protocol \n",
    "* IVOA standard for RESTful web service access to tabular data\n",
    "* http://www.ivoa.net/documents/TAP/\n",
    "\n",
    "## Hubble Source Catalog v3\n",
    "* Catalog created at MAST by combining the tens of thousands of visit-based source lists in the Hubble Legacy Archive (HLA) into a single master catalog. \n",
    "* https://archive.stsci.edu/hst/hsc/\n",
    "\n",
    "## Astronomical Query Data Language (2.0)\n",
    "* IVOA standard for querying astronomical data in tabular format, with geometric search support\n",
    "* http://www.ivoa.net/documents/latest/ADQL.html\n",
    "\n",
    "## TapPlus \n",
    "* Module created by ESAC Space Data Centre\n",
    "* http://astroquery.readthedocs.io/en/latest/utils/tap.html"
   ]
  },
  {
   "cell_type": "markdown",
   "metadata": {},
   "source": [
    "***"
   ]
  },
  {
   "cell_type": "markdown",
   "metadata": {},
   "source": [
    "## About this Notebook\n",
    "**Authors:** Rick White & Theresa Dower, STScI Archive Scientist & Software Engineer\n",
    "**Updated On:** 11/23/2018"
   ]
  },
  {
   "cell_type": "markdown",
   "metadata": {},
   "source": [
    "***"
   ]
  },
  {
   "cell_type": "markdown",
   "metadata": {},
   "source": [
    "<img style=\"float: right;\" src=\"./stsci_pri_combo_mark_horizonal_white_bkgd.png\" alt=\"stsci_pri_combo_mark_horizonal_white_bkgd\" width=\"200px\"/> "
   ]
  }
 ],
 "metadata": {
  "kernelspec": {
   "display_name": "Python 3",
   "language": "python",
   "name": "python3"
  },
  "language_info": {
   "codemirror_mode": {
    "name": "ipython",
    "version": 3
   },
   "file_extension": ".py",
   "mimetype": "text/x-python",
   "name": "python",
   "nbconvert_exporter": "python",
   "pygments_lexer": "ipython3",
   "version": "3.6.5"
  },
  "widgets": {
   "state": {},
   "version": "1.1.2"
  }
 },
 "nbformat": 4,
 "nbformat_minor": 1
}
