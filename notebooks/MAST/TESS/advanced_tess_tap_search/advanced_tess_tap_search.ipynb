{
 "cells": [
  {
   "cell_type": "markdown",
   "metadata": {},
   "source": [
    "# MAST TESS Access with Table Access Protocol Service"
   ]
  },
  {
   "cell_type": "markdown",
   "metadata": {},
   "source": [
    "<br> This notebook is a demo for accessing Transiting Exoplanet Survey Satellite (TESS) data in the Common Archive Observation Model (CAOM) catalog at MAST, using a Virtual Observatory standard Table Access Protocol (TAP) service.\n",
    "\n",
    "***\n",
    "### Table of Contents\n",
    "\n",
    "1. [TAP Service Introduction](#TAP-Service-Introduction)\n",
    "2. [Imports](#Imports)\n",
    "3. [Service Specific Configuration](#Service-Specific-Configuration)\n",
    "4. [Connecting to the TAP Service](#Connecting-to-the-TAP-Service)\n",
    "5. [Use Case: Getting images from a sector, camera, and chip](Use-Case:-Getting-images-from-a-sector,-camera,-and-chip)\n",
    "    - [Step 1: Getting the footprint](#Step-1:-Getting-the-footprint)\n",
    "    - [Step 2: Getting files for the footprint](#Step-2:-Getting-files-for-the-footprint)\n",
    "5. [Additional Resources](#Additional-Resources)\n",
    "6. [About This Notebook](#About-this-Notebook)\n",
    "***"
   ]
  },
  {
   "cell_type": "markdown",
   "metadata": {},
   "source": [
    "## TAP Service Introduction"
   ]
  },
  {
   "cell_type": "markdown",
   "metadata": {},
   "source": [
    "Table Access Protocol (TAP) services allow more direct and flexible access to astronomical data than the simpler types of IVOA standard data services. Queries are built with the SQL-like Astronomical Data Query Language (ADQL), and can include geographic / spatial queries as well as filtering on other characteristics of the data. This also allows the user fine-grained control over the returned columns, unlike the fixed set of coumns retunred from cone, image, and spectral services.\n",
    "\n",
    "For this example, we'll be using the astroquery TAP/TAP+ client, which was developed by the ESAC Space Data Centre for working with the GAIA catalog, but is interoperable with other valid TAP services, including those at MAST. As an astroquery project, TAP+ documentation is available at ReadTheDocs: http://astroquery.readthedocs.io/en/latest/utils/tap.html\n",
    "\n",
    "We'll be using TAP+ to call the CAOM Catalog TAP service at MAST and filter the results for TESS-related information. The schema for this catalog is an IVOA standard, and is also described within the service itself.\n",
    "\n"
   ]
  },
  {
   "cell_type": "markdown",
   "metadata": {},
   "source": [
    "***\n",
    "## Imports"
   ]
  },
  {
   "cell_type": "code",
   "execution_count": 1,
   "metadata": {
    "collapsed": true
   },
   "outputs": [],
   "source": [
    "# Use the astroquery TapPlus library as our client to the data service.\n",
    "from astroquery.utils.tap.core import TapPlus\n",
    "\n",
    "# For handling ordinary astropy Tables in responses\n",
    "from astropy.table import Table\n",
    "\n",
    "# For raw VO Service Information requests\n",
    "import urllib.request\n",
    "import xml.etree.ElementTree\n",
    "\n",
    "# For displaying and manipulating some types of results\n",
    "import requests\n",
    "import astropy\n",
    "import time\n",
    "\n",
    "# To allow display tweaks for wider response tables\n",
    "from IPython.core.display import display\n",
    "from IPython.core.display import HTML\n",
    "\n",
    "\n",
    "# Ignore Astroquery warnings for empty columns. \n",
    "import warnings\n",
    "warnings.filterwarnings(\"ignore\", '.*Empty cell illegal for')"
   ]
  },
  {
   "cell_type": "markdown",
   "metadata": {},
   "source": [
    "## Service Specific Configuration\n",
    "\n",
    "Every TAP service has a \"Base URL\", and endpoints after it for synchronous and asynchronous queries, as well as status and capability information, and sometimes provided sample queries. The endpoints are predefined in the TAP standard, so clients can know them without the user having to know the details. We only have to configure our code to know the main endpoint."
   ]
  },
  {
   "cell_type": "code",
   "execution_count": 2,
   "metadata": {
    "collapsed": true
   },
   "outputs": [],
   "source": [
    "TAP_URL = \"http://vaotest.stsci.edu/caomtap/tapservice.aspx\""
   ]
  },
  {
   "cell_type": "markdown",
   "metadata": {},
   "source": [
    "## Connecting to the TAP Service\n",
    "\n",
    "The TapPlus library is able to connect to any TAP service, given the \"base\" URL as noted in metadata registry resources describing the service."
   ]
  },
  {
   "cell_type": "code",
   "execution_count": 3,
   "metadata": {},
   "outputs": [
    {
     "name": "stdout",
     "output_type": "stream",
     "text": [
      "Created TAP+ (v1.0.1) - Connection:\n",
      "\tHost: vaotest.stsci.edu\n",
      "\tUse HTTPS: False\n",
      "\tPort: 80\n",
      "\tSSL Port: 443\n"
     ]
    }
   ],
   "source": [
    "TAP_service = TapPlus(url=TAP_URL)"
   ]
  },
  {
   "cell_type": "markdown",
   "metadata": {},
   "source": [
    "## Use Case: Getting images from a sector, camera, and chip"
   ]
  },
  {
   "cell_type": "markdown",
   "metadata": {},
   "source": [
    "### Step 1: Getting the footprint\n",
    "\n",
    "For our purposes, any one footprint related to a secto, camera, and chip combination is good enough. We are not currently accounting for small movements of the spacecraft to form a composite footprint."
   ]
  },
  {
   "cell_type": "code",
   "execution_count": 4,
   "metadata": {},
   "outputs": [],
   "source": [
    "sector = '1'\n",
    "camera = '1'\n",
    "chip = '2'\n",
    "observationIDwildcard = 'tess%-s000' + sector + '-' + camera + '-' + chip + '-%-s'"
   ]
  },
  {
   "cell_type": "code",
   "execution_count": 5,
   "metadata": {},
   "outputs": [
    {
     "name": "stdout",
     "output_type": "stream",
     "text": [
      "Query finished.\n"
     ]
    },
    {
     "data": {
      "text/html": [
       "&lt;Table masked=True length=1&gt;\n",
       "<table id=\"table76209624\" class=\"table-striped table-bordered table-condensed\">\n",
       "<thead><tr><th>obs_id</th><th>s_region</th></tr></thead>\n",
       "<thead><tr><th>object</th><th>object</th></tr></thead>\n",
       "<tr><td>tess2018206192942-s0001-1-2-0120-s</td><td>POLYGON 330.38144700 -44.39669700 324.98193100 -33.40896200 337.79557700 -28.35517500 344.63254500 -38.64028000</td></tr>\n",
       "</table>"
      ],
      "text/plain": [
       "<Table masked=True length=1>\n",
       "              obs_id               ...\n",
       "              object               ...\n",
       "---------------------------------- ...\n",
       "tess2018206192942-s0001-1-2-0120-s ..."
      ]
     },
     "execution_count": 5,
     "metadata": {},
     "output_type": "execute_result"
    }
   ],
   "source": [
    "job = TAP_service.launch_job_async(\n",
    "            \"SELECT top 1 obs_id, s_region \" +\n",
    "            \"FROM caomobservation, ivoa.obscore \" +\n",
    "            \"WHERE \" +\n",
    "            \"observationID = obs_id and \"\n",
    "            \"collection = 'TESS' and trgType = 'FIELD' and \" +\n",
    "            \"(sequenceNumber  = 1 or sequenceNumber = 2) and \"\n",
    "            \"observationID like '\" + observationIDwildcard + \"'\"\n",
    "            )\n",
    "#print(job.parameters)\n",
    "TAP_results = job.get_results()\n",
    "TAP_results"
   ]
  },
  {
   "cell_type": "markdown",
   "metadata": {},
   "source": [
    "### Step 2: Getting files for the footprint"
   ]
  },
  {
   "cell_type": "code",
   "execution_count": 6,
   "metadata": {},
   "outputs": [
    {
     "name": "stdout",
     "output_type": "stream",
     "text": [
      "Query finished.\n"
     ]
    },
    {
     "data": {
      "text/html": [
       "&lt;Table masked=True length=5054&gt;\n",
       "<table id=\"table82493392\" class=\"table-striped table-bordered table-condensed\">\n",
       "<thead><tr><th>obs_id</th><th>access_url</th><th>access_format</th><th>access_estsize</th><th>s_region</th></tr></thead>\n",
       "<thead><tr><th>object</th><th>object</th><th>object</th><th>int64</th><th>object</th></tr></thead>\n",
       "<tr><td>tess2018206192942-s0001-1-2-0120-s</td><td>https://mast.stsci.edu/portal/Download/file?uri=mast:TESS/product/tess2018206192942-s0001-1-2-0120-s_ffic.fits</td><td>image/fits</td><td>35547840</td><td>POLYGON 330.38144700 -44.39669700 324.98193100 -33.40896200 337.79557700 -28.35517500 344.63254500 -38.64028000</td></tr>\n",
       "<tr><td>tess2018206205942-s0001-1-2-0120-s</td><td>https://mast.stsci.edu/portal/Download/file?uri=mast:TESS/product/tess2018206205942-s0001-1-2-0120-s_ffic.fits</td><td>image/fits</td><td>35547840</td><td>POLYGON 330.38144800 -44.39669100 324.98193400 -33.40897000 337.79557200 -28.35517700 344.63253500 -38.64026900</td></tr>\n",
       "<tr><td>tess2018206215942-s0001-1-2-0120-s</td><td>https://mast.stsci.edu/portal/Download/file?uri=mast:TESS/product/tess2018206215942-s0001-1-2-0120-s_ffic.fits</td><td>image/fits</td><td>35547840</td><td>POLYGON 330.38144600 -44.39668600 324.98193400 -33.40897500 337.79556700 -28.35518200 344.63252600 -38.64026500</td></tr>\n",
       "<tr><td>tess2018210065942-s0001-2-3-0120-s</td><td>https://mast.stsci.edu/portal/Download/file?uri=mast:TESS/product/tess2018210065942-s0001-2-3-0120-s_ffic.fits</td><td>image/fits</td><td>35547840</td><td>POLYGON 344.48929600 -38.37944100 354.48591700 -47.59761300 338.72533300 -54.57271900 330.34469100 -44.15626900</td></tr>\n",
       "<tr><td>tess2018210072942-s0001-1-2-0120-s</td><td>https://mast.stsci.edu/portal/Download/file?uri=mast:TESS/product/tess2018210072942-s0001-1-2-0120-s_ffic.fits</td><td>image/fits</td><td>35547840</td><td>POLYGON 330.38146500 -44.39663300 324.98201000 -33.40901000 337.79554400 -28.35527700 344.63242700 -38.64028500</td></tr>\n",
       "<tr><td>tess2018210085942-s0001-1-2-0120-s</td><td>https://mast.stsci.edu/portal/Download/file?uri=mast:TESS/product/tess2018210085942-s0001-1-2-0120-s_ffic.fits</td><td>image/fits</td><td>35547840</td><td>POLYGON 330.38146800 -44.39662800 324.98202100 -33.40900600 337.79555300 -28.35527500 344.63242900 -38.64028400</td></tr>\n",
       "<tr><td>tess2018210092942-s0001-2-3-0120-s</td><td>https://mast.stsci.edu/portal/Download/file?uri=mast:TESS/product/tess2018210092942-s0001-2-3-0120-s_ffic.fits</td><td>image/fits</td><td>35547840</td><td>POLYGON 344.48929400 -38.37944200 354.48591300 -47.59761500 338.72532900 -54.57271900 330.34468900 -44.15626900</td></tr>\n",
       "<tr><td>tess2018210102942-s0001-1-2-0120-s</td><td>https://mast.stsci.edu/portal/Download/file?uri=mast:TESS/product/tess2018210102942-s0001-1-2-0120-s_ffic.fits</td><td>image/fits</td><td>35547840</td><td>POLYGON 330.38147300 -44.39663100 324.98202500 -33.40901200 337.79555400 -28.35527900 344.63243100 -38.64028500</td></tr>\n",
       "<tr><td>tess2018210112942-s0001-1-2-0120-s</td><td>https://mast.stsci.edu/portal/Download/file?uri=mast:TESS/product/tess2018210112942-s0001-1-2-0120-s_ffic.fits</td><td>image/fits</td><td>35547840</td><td>POLYGON 330.38146600 -44.39662700 324.98202200 -33.40900800 337.79555000 -28.35527300 344.63242100 -38.64027900</td></tr>\n",
       "<tr><td>tess2018210135942-s0001-1-2-0120-s</td><td>https://mast.stsci.edu/portal/Download/file?uri=mast:TESS/product/tess2018210135942-s0001-1-2-0120-s_ffic.fits</td><td>image/fits</td><td>35547840</td><td>POLYGON 330.38147200 -44.39662900 324.98202800 -33.40901300 337.79555500 -28.35527800 344.63242600 -38.64028200</td></tr>\n",
       "<tr><td>...</td><td>...</td><td>...</td><td>...</td><td>...</td></tr>\n",
       "<tr><td>tess2018209002942-s0001-2-3-0120-s</td><td>https://mast.stsci.edu/portal/Download/file?uri=mast:TESS/product/tess2018209002942-s0001-2-3-0120-s_ffic.fits</td><td>image/fits</td><td>35547840</td><td>POLYGON 344.48928400 -38.37940800 354.48591400 -47.59759500 338.72530900 -54.57270700 330.34466300 -44.15624100</td></tr>\n",
       "<tr><td>tess2018209012942-s0001-1-2-0120-s</td><td>https://mast.stsci.edu/portal/Download/file?uri=mast:TESS/product/tess2018209012942-s0001-1-2-0120-s_ffic.fits</td><td>image/fits</td><td>35547840</td><td>POLYGON 330.38145700 -44.39662800 324.98200800 -33.40900000 337.79555100 -28.35524300 344.63242800 -38.64025600</td></tr>\n",
       "<tr><td>tess2018209015942-s0001-1-2-0120-s</td><td>https://mast.stsci.edu/portal/Download/file?uri=mast:TESS/product/tess2018209015942-s0001-1-2-0120-s_ffic.fits</td><td>image/fits</td><td>35547840</td><td>POLYGON 330.38145400 -44.39663000 324.98200200 -33.40900100 337.79554700 -28.35524600 344.63242800 -38.64026000</td></tr>\n",
       "<tr><td>tess2018209022942-s0001-1-2-0120-s</td><td>https://mast.stsci.edu/portal/Download/file?uri=mast:TESS/product/tess2018209022942-s0001-1-2-0120-s_ffic.fits</td><td>image/fits</td><td>35547840</td><td>POLYGON 330.38144800 -44.39661700 324.98200200 -33.40898500 337.79554700 -28.35523400 344.63242300 -38.64025200</td></tr>\n",
       "<tr><td>tess2018209025942-s0001-2-3-0120-s</td><td>https://mast.stsci.edu/portal/Download/file?uri=mast:TESS/product/tess2018209025942-s0001-2-3-0120-s_ffic.fits</td><td>image/fits</td><td>35547840</td><td>POLYGON 344.48928400 -38.37941000 354.48591400 -47.59759700 338.72531100 -54.57270900 330.34466300 -44.15624300</td></tr>\n",
       "<tr><td>tess2018209042942-s0001-1-2-0120-s</td><td>https://mast.stsci.edu/portal/Download/file?uri=mast:TESS/product/tess2018209042942-s0001-1-2-0120-s_ffic.fits</td><td>image/fits</td><td>35547840</td><td>POLYGON 330.38145600 -44.39662600 324.98201200 -33.40899600 337.79555200 -28.35524400 344.63242600 -38.64026000</td></tr>\n",
       "<tr><td>tess2018209045942-s0001-1-2-0120-s</td><td>https://mast.stsci.edu/portal/Download/file?uri=mast:TESS/product/tess2018209045942-s0001-1-2-0120-s_ffic.fits</td><td>image/fits</td><td>35547840</td><td>POLYGON 330.38145300 -44.39662400 324.98200800 -33.40899700 337.79554700 -28.35524300 344.63242100 -38.64025600</td></tr>\n",
       "<tr><td>tess2018209052942-s0001-1-2-0120-s</td><td>https://mast.stsci.edu/portal/Download/file?uri=mast:TESS/product/tess2018209052942-s0001-1-2-0120-s_ffic.fits</td><td>image/fits</td><td>35547840</td><td>POLYGON 330.38145400 -44.39662300 324.98201000 -33.40900400 337.79554800 -28.35524300 344.63241800 -38.64024900</td></tr>\n",
       "<tr><td>tess2018209072942-s0001-1-2-0120-s</td><td>https://mast.stsci.edu/portal/Download/file?uri=mast:TESS/product/tess2018209072942-s0001-1-2-0120-s_ffic.fits</td><td>image/fits</td><td>35547840</td><td>POLYGON 330.38145400 -44.39662200 324.98200700 -33.40900700 337.79554500 -28.35524300 344.63241700 -38.64024500</td></tr>\n",
       "<tr><td>tess2018209072942-s0001-2-3-0120-s</td><td>https://mast.stsci.edu/portal/Download/file?uri=mast:TESS/product/tess2018209072942-s0001-2-3-0120-s_ffic.fits</td><td>image/fits</td><td>35547840</td><td>POLYGON 344.48927300 -38.37941500 354.48590200 -47.59760000 338.72530300 -54.57271100 330.34465700 -44.15624700</td></tr>\n",
       "</table>"
      ],
      "text/plain": [
       "<Table masked=True length=5054>\n",
       "              obs_id               ...\n",
       "              object               ...\n",
       "---------------------------------- ...\n",
       "tess2018206192942-s0001-1-2-0120-s ...\n",
       "tess2018206205942-s0001-1-2-0120-s ...\n",
       "tess2018206215942-s0001-1-2-0120-s ...\n",
       "tess2018210065942-s0001-2-3-0120-s ...\n",
       "tess2018210072942-s0001-1-2-0120-s ...\n",
       "tess2018210085942-s0001-1-2-0120-s ...\n",
       "tess2018210092942-s0001-2-3-0120-s ...\n",
       "tess2018210102942-s0001-1-2-0120-s ...\n",
       "tess2018210112942-s0001-1-2-0120-s ...\n",
       "tess2018210135942-s0001-1-2-0120-s ...\n",
       "                               ... ...\n",
       "tess2018209002942-s0001-2-3-0120-s ...\n",
       "tess2018209012942-s0001-1-2-0120-s ...\n",
       "tess2018209015942-s0001-1-2-0120-s ...\n",
       "tess2018209022942-s0001-1-2-0120-s ...\n",
       "tess2018209025942-s0001-2-3-0120-s ...\n",
       "tess2018209042942-s0001-1-2-0120-s ...\n",
       "tess2018209045942-s0001-1-2-0120-s ...\n",
       "tess2018209052942-s0001-1-2-0120-s ...\n",
       "tess2018209072942-s0001-1-2-0120-s ...\n",
       "tess2018209072942-s0001-2-3-0120-s ..."
      ]
     },
     "execution_count": 6,
     "metadata": {},
     "output_type": "execute_result"
    }
   ],
   "source": [
    "job = TAP_service.launch_job_async(\"\"\"\n",
    "            SELECT obs_id, access_url, access_format, access_estsize, s_region\n",
    "            FROM ivoa.obscore\n",
    "            WHERE \n",
    "            obs_collection = 'TESS' and\n",
    "            dataproduct_type = 'image' and\n",
    "            CONTAINS(POINT('ICRS',s_ra,s_dec),POLYGON('ICRS', 330.38144700, -44.39669600, 324.98193300, -33.40896600, 337.79557200, -28.35517500, 344.63253800, -38.64027600))=1            \"\"\")\n",
    "TAP_results = job.get_results()\n",
    "TAP_results          "
   ]
  },
  {
   "cell_type": "markdown",
   "metadata": {
    "collapsed": true
   },
   "source": [
    "***\n",
    "# Additional Resources\n",
    "\n",
    "\n",
    "## Table Access Protocol \n",
    "* IVOA standard for RESTful web service access to tabular data\n",
    "* http://www.ivoa.net/documents/TAP/\n",
    "\n",
    "\n",
    "## Astronomical Query Data Language (2.0)\n",
    "* IVOA standard for querying astronomical data in tabular format, with geometric search support\n",
    "* http://www.ivoa.net/documents/latest/ADQL.html\n",
    "\n",
    "\n",
    "## Common Archive Observation Model (2)\n",
    "* IVOA standard data model whose relational representation this catalog follows\n",
    "* http://www.opencadc.org/caom2/\n",
    "\n",
    "\n",
    "## TapPlus \n",
    "* Module created by ESAC Space Data Centre\n",
    "* http://astroquery.readthedocs.io/en/latest/utils/tap.html"
   ]
  },
  {
   "cell_type": "markdown",
   "metadata": {},
   "source": [
    "***"
   ]
  },
  {
   "cell_type": "markdown",
   "metadata": {},
   "source": [
    "## About this Notebook\n",
    "**Authors:** Scott Fleming & Theresa Dower, STScI Archive Scientists & Software Engineer\n",
    "**Updated On:** 12/17/2018"
   ]
  },
  {
   "cell_type": "markdown",
   "metadata": {},
   "source": [
    "***"
   ]
  },
  {
   "cell_type": "markdown",
   "metadata": {},
   "source": [
    "<img style=\"float: right;\" src=\"./stsci_pri_combo_mark_horizonal_white_bkgd.png\" alt=\"stsci_pri_combo_mark_horizonal_white_bkgd\" width=\"200px\"/> "
   ]
  }
 ],
 "metadata": {
  "kernelspec": {
   "display_name": "Python 3",
   "language": "python",
   "name": "python3"
  },
  "language_info": {
   "codemirror_mode": {
    "name": "ipython",
    "version": 3
   },
   "file_extension": ".py",
   "mimetype": "text/x-python",
   "name": "python",
   "nbconvert_exporter": "python",
   "pygments_lexer": "ipython3",
   "version": "3.6.1"
  },
  "widgets": {
   "state": {},
   "version": "1.1.2"
  }
 },
 "nbformat": 4,
 "nbformat_minor": 1
}
