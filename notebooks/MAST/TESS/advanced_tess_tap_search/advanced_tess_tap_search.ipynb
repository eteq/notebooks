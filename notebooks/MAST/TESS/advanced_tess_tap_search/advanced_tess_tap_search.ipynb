{
 "cells": [
  {
   "cell_type": "markdown",
   "metadata": {},
   "source": [
    "# MAST TESS Access with Table Access Protocol Service"
   ]
  },
  {
   "cell_type": "markdown",
   "metadata": {},
   "source": [
    "<br> This notebook is a demo for accessing Transiting Exoplanet Survey Satellite (TESS) data in the Common Archive Observation Model (CAOM) catalog at MAST, using a Virtual Observatory standard Table Access Protocol (TAP) service.\n",
    "\n",
    "***\n",
    "### Table of Contents\n",
    "\n",
    "1. [TAP Service Introduction](#TAP-Service-Introduction)\n",
    "2. [Imports](#Imports)\n",
    "3. [Service Specific Configuration](#Service-Specific-Configuration)\n",
    "4. [Connecting, Finding, and Using Data in TAP](#Connecting,-Finding,-and-Using-Data-in-TAP)\n",
    "    - [Connecting to the TAP Service](#Connecting-to-the-TAP-Service)\n",
    "    - [Querying for Table Schema Information](#Querying-for-Table-Schema-Information)\n",
    "5. [Additional Resources](#Additional-Resources)\n",
    "6. [About This Notebook](#About-this-Notebook)\n",
    "***"
   ]
  },
  {
   "cell_type": "markdown",
   "metadata": {},
   "source": [
    "## TAP Service Introduction"
   ]
  },
  {
   "cell_type": "markdown",
   "metadata": {},
   "source": [
    "Table Access Protocol (TAP) services allow more direct and flexible access to astronomical data than the simpler types of IVOA standard data services. Queries are built with the SQL-like Astronomical Data Query Language (ADQL), and can include geographic / spatial queries as well as filtering on other characteristics of the data. This also allows the user fine-grained control over the returned columns, unlike the fixed set of coumns retunred from cone, image, and spectral services.\n",
    "\n",
    "For this example, we'll be using the astroquery TAP/TAP+ client, which was developed by the ESAC Space Data Centre for working with the GAIA catalog, but is interoperable with other valid TAP services, including those at MAST. As an astroquery project, TAP+ documentation is available at ReadTheDocs: http://astroquery.readthedocs.io/en/latest/utils/tap.html\n",
    "\n",
    "We'll be using TAP+ to call the CAOM Catalog TAP service at MAST and filter the results for TESS-related information. The schema for this catalog is an IVOA standard, and is also described within the service itself.\n",
    "\n"
   ]
  },
  {
   "cell_type": "markdown",
   "metadata": {},
   "source": [
    "***\n",
    "## Imports"
   ]
  },
  {
   "cell_type": "code",
   "execution_count": null,
   "metadata": {
    "collapsed": true
   },
   "outputs": [],
   "source": [
    "# Use the astroquery TapPlus library as our client to the data service.\n",
    "from astroquery.utils.tap.core import TapPlus\n",
    "\n",
    "# For handling ordinary astropy Tables in responses\n",
    "from astropy.table import Table\n",
    "\n",
    "# For raw VO Service Information requests\n",
    "import urllib.request\n",
    "import xml.etree.ElementTree\n",
    "\n",
    "# For displaying and manipulating some types of results\n",
    "import requests\n",
    "import astropy #version >=3.0.9\n",
    "import time\n",
    "\n",
    "# To allow display tweaks for wider response tables\n",
    "from IPython.core.display import display\n",
    "from IPython.core.display import HTML\n"
   ]
  },
  {
   "cell_type": "markdown",
   "metadata": {},
   "source": [
    "## Service Specific Configuration\n",
    "\n",
    "Every TAP service has a \"Base URL\", and endpoints after it for synchronous and asynchronous queries, as well as status and capability information, and sometimes provided sample queries. The endpoints are predefined in the TAP standard, so clients can know them without the user having to know the details. We only have to configure our code to know the main endpoint."
   ]
  },
  {
   "cell_type": "code",
   "execution_count": null,
   "metadata": {
    "collapsed": true
   },
   "outputs": [],
   "source": [
    "TAP_URL = \"http://vao.stsci.edu/caomtap/tapservice.aspx\""
   ]
  },
  {
   "cell_type": "markdown",
   "metadata": {},
   "source": [
    "***\n",
    "## Connecting, Finding, and Using Data in TAP"
   ]
  },
  {
   "cell_type": "markdown",
   "metadata": {},
   "source": [
    "### Connecting to the TAP Service\n",
    "\n",
    "The TapPlus library is able to connect to any TAP service, given the \"base\" URL as noted in metadata registry resources describing the service."
   ]
  },
  {
   "cell_type": "code",
   "execution_count": null,
   "metadata": {},
   "outputs": [],
   "source": [
    "TAP_service = TapPlus(url=TAP_URL)"
   ]
  },
  {
   "cell_type": "markdown",
   "metadata": {},
   "source": [
    "### Querying for Table Schema Information\n",
    "    \n",
    "TAP services are self-describing, which means the service itself can be asked for its schema and documentation about it. While this catalog follows a standard a data model, the tables and columns available as named at MAST can be found by querying the service itself"
   ]
  },
  {
   "cell_type": "code",
   "execution_count": null,
   "metadata": {},
   "outputs": [],
   "source": [
    "TAP_tables = TAP_service.load_tables()\n",
    "for table in TAP_tables:\n",
    "    print(table.name)"
   ]
  },
  {
   "cell_type": "code",
   "execution_count": null,
   "metadata": {
    "collapsed": true,
    "scrolled": true
   },
   "outputs": [],
   "source": [
    "#job = TAP_service.launch_job(\"SELECT TOP 1 * FROM \" + TAP_tables[0].name)\n",
    "#print(job.parameters)\n",
    "#TAP_results = job.get_results()\n",
    "#time.sleep(1);"
   ]
  },
  {
   "cell_type": "code",
   "execution_count": null,
   "metadata": {
    "collapsed": true
   },
   "outputs": [],
   "source": [
    "#print('Testing async mode')\n",
    "#job = TAP_service.launch_job_async(\"SELECT TOP 1 * FROM \" + TAP_tables[0].name)\n",
    "#print(job.parameters)\n",
    "#TAP_results = job.get_results()"
   ]
  },
  {
   "cell_type": "markdown",
   "metadata": {
    "collapsed": true
   },
   "source": [
    "***\n",
    "# Additional Resources\n",
    "\n",
    "\n",
    "## Table Access Protocol \n",
    "* IVOA standard for RESTful web service access to tabular data\n",
    "* http://www.ivoa.net/documents/TAP/\n",
    "\n",
    "\n",
    "## Astronomical Query Data Language (2.0)\n",
    "* IVOA standard for querying astronomical data in tabular format, with geometric search support\n",
    "* http://www.ivoa.net/documents/latest/ADQL.html\n",
    "\n",
    "\n",
    "## Common Archive Observation Model (2)\n",
    "* IVOA standard data model whose relational representation this catalog follows\n",
    "* http://www.opencadc.org/caom2/\n",
    "\n",
    "\n",
    "## TapPlus \n",
    "* Module created by ESAC Space Data Centre\n",
    "* http://astroquery.readthedocs.io/en/latest/utils/tap.html"
   ]
  },
  {
   "cell_type": "markdown",
   "metadata": {},
   "source": [
    "***"
   ]
  },
  {
   "cell_type": "markdown",
   "metadata": {},
   "source": [
    "## About this Notebook\n",
    "**Authors:** Scott Fleming & Theresa Dower, STScI Archive Scientists & Software Engineer\n",
    "**Updated On:** 12/17/2018"
   ]
  },
  {
   "cell_type": "markdown",
   "metadata": {},
   "source": [
    "***"
   ]
  },
  {
   "cell_type": "markdown",
   "metadata": {},
   "source": [
    "<img style=\"float: right;\" src=\"./stsci_pri_combo_mark_horizonal_white_bkgd.png\" alt=\"stsci_pri_combo_mark_horizonal_white_bkgd\" width=\"200px\"/> "
   ]
  }
 ],
 "metadata": {
  "kernelspec": {
   "display_name": "Python 3",
   "language": "python",
   "name": "python3"
  },
  "language_info": {
   "codemirror_mode": {
    "name": "ipython",
    "version": 3
   },
   "file_extension": ".py",
   "mimetype": "text/x-python",
   "name": "python",
   "nbconvert_exporter": "python",
   "pygments_lexer": "ipython3",
   "version": "3.6.1"
  },
  "widgets": {
   "state": {},
   "version": "1.1.2"
  }
 },
 "nbformat": 4,
 "nbformat_minor": 1
}
